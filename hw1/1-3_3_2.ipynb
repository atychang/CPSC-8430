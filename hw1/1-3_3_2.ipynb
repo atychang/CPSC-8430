{
 "cells": [
  {
   "cell_type": "markdown",
   "id": "08005739-7931-4de2-9123-6a0609638dc5",
   "metadata": {},
   "source": [
    "# Flatness v.s. Generalization - Part 2"
   ]
  },
  {
   "cell_type": "markdown",
   "id": "274e88d4-b986-42cc-84f3-a4b56a3d0244",
   "metadata": {},
   "source": [
    "# Number of parameters v.s. Generalization"
   ]
  },
  {
   "cell_type": "code",
   "execution_count": 1,
   "id": "7e6d51b8-b298-4271-aec3-d22285d90458",
   "metadata": {},
   "outputs": [],
   "source": [
    "import matplotlib.pyplot as plt\n",
    "import numpy as np\n",
    "import torch\n",
    "import torch.nn as nn\n",
    "import torch.nn.functional as F\n",
    "import torch.optim as optim\n",
    "from torchvision import datasets, transforms\n",
    "from torchvision.transforms import ToTensor\n",
    "from torch.utils.data import DataLoader"
   ]
  },
  {
   "cell_type": "code",
   "execution_count": 2,
   "id": "705e4571-837d-4e6d-8a08-463b8d071092",
   "metadata": {},
   "outputs": [
    {
     "data": {
      "text/plain": [
       "<torch._C.Generator at 0x10b7aaf70>"
      ]
     },
     "execution_count": 2,
     "metadata": {},
     "output_type": "execute_result"
    }
   ],
   "source": [
    "torch.manual_seed(1)"
   ]
  },
  {
   "cell_type": "markdown",
   "id": "a0ce1d5a-6f79-4429-a989-b371e9a15673",
   "metadata": {},
   "source": [
    "## Datasets"
   ]
  },
  {
   "cell_type": "markdown",
   "id": "4a40209a-3503-4901-aad8-b4331888fbb2",
   "metadata": {},
   "source": [
    "### MNIST"
   ]
  },
  {
   "cell_type": "code",
   "execution_count": 3,
   "id": "63bf3b58-bb4b-4f53-9e3e-56c206146d89",
   "metadata": {},
   "outputs": [],
   "source": [
    "# The training data\n",
    "mnist_training_data = datasets.MNIST(\n",
    "    root=\"data\",\n",
    "    train=True,\n",
    "    download=True,\n",
    "    transform=ToTensor(),\n",
    ")\n",
    "\n",
    "# The testing data\n",
    "mnist_test_data = datasets.MNIST(\n",
    "    root=\"data\",\n",
    "    train=False,\n",
    "    download=True,\n",
    "    transform=ToTensor(),\n",
    ")"
   ]
  },
  {
   "cell_type": "markdown",
   "id": "a7ee0600-9b63-432e-a05e-843870a862f6",
   "metadata": {},
   "source": [
    "## Training Function"
   ]
  },
  {
   "cell_type": "code",
   "execution_count": 4,
   "id": "a738bcf3-287b-47b2-a5bb-75d1b402ed5a",
   "metadata": {},
   "outputs": [],
   "source": [
    "def train(args, model, train_loader, loss_func, optimizer, epoch):\n",
    "    model.train()\n",
    "    loss = None\n",
    "    correct = 0\n",
    "    sensitivity = 0\n",
    "    for batch_idx, (data, target) in enumerate(train_loader):\n",
    "        optimizer.zero_grad()\n",
    "        output = model(data)\n",
    "        loss = loss_func(output, target)\n",
    "        loss.backward()\n",
    "        optimizer.step()\n",
    "\n",
    "        _, predicted = torch.max(output.data, 1)\n",
    "        correct += (predicted == target).sum().item()\n",
    "\n",
    "        froGrad = 0\n",
    "        count = 0\n",
    "        for p in model.parameters():\n",
    "            grad = 0.0\n",
    "            if p.grad is not None:\n",
    "                grad = p.grad\n",
    "                froGrad_norm = torch.linalg.norm(grad).numpy()\n",
    "                froGrad += froGrad_norm\n",
    "                count += 1\n",
    "        sensitivity = froGrad / count\n",
    "\n",
    "        if batch_idx % args[\"log_interval\"] == 0:\n",
    "            print(\n",
    "                \"Train Epoch: {} [{}/{} ({:.0f}%)]\\tLoss: {:.6f}\\tSensitivity: {:.6f}\".format(\n",
    "                    epoch,\n",
    "                    batch_idx * len(data),\n",
    "                    len(train_loader.dataset),\n",
    "                    100.0 * batch_idx / len(train_loader),\n",
    "                    loss.item(),\n",
    "                    sensitivity,\n",
    "                )\n",
    "            )\n",
    "    return correct / len(train_loader.dataset), loss.item(), sensitivity"
   ]
  },
  {
   "cell_type": "markdown",
   "id": "724daa72-af85-4844-9c3f-442b7bf48d81",
   "metadata": {},
   "source": [
    "## Testing Function"
   ]
  },
  {
   "cell_type": "code",
   "execution_count": 5,
   "id": "76d7d44a-e60e-42ed-9cd5-3007074a821f",
   "metadata": {},
   "outputs": [],
   "source": [
    "def test(model, loss_func, test_loader):\n",
    "    model.eval()\n",
    "    test_loss = 0\n",
    "    correct = 0\n",
    "    with torch.no_grad():\n",
    "        for data, target in test_loader:\n",
    "            output = model(data)\n",
    "            test_loss += loss_func(output, target).item()\n",
    "            pred = output.argmax(dim=1, keepdim=True)\n",
    "            correct += pred.eq(target.view_as(pred)).sum().item()\n",
    "\n",
    "    test_loss /= len(test_loader.dataset)\n",
    "\n",
    "    print(\n",
    "        \"\\nTest set: Average loss: {:.4f}, Accuracy: {}/{} ({:.0f}%)\\n\".format(\n",
    "            test_loss,\n",
    "            correct,\n",
    "            len(test_loader.dataset),\n",
    "            100.0 * correct / len(test_loader.dataset),\n",
    "        )\n",
    "    )\n",
    "\n",
    "    return correct / len(test_loader.dataset), test_loss"
   ]
  },
  {
   "cell_type": "markdown",
   "id": "48eb88e9-3f02-4efe-92fa-c75d4d59900d",
   "metadata": {},
   "source": [
    "## 5 Models"
   ]
  },
  {
   "cell_type": "code",
   "execution_count": 6,
   "id": "77874d99-55c1-43ea-b977-aec4a8436547",
   "metadata": {
    "tags": []
   },
   "outputs": [],
   "source": [
    "class Model1(nn.Module):\n",
    "    def __init__(self):\n",
    "        super(Model1, self).__init__()\n",
    "        self.fc1 = nn.Linear(784, 240)\n",
    "        self.fc2 = nn.Linear(240, 10)\n",
    "\n",
    "    def forward(self, x):\n",
    "        x = torch.flatten(x, 1)\n",
    "        x = F.relu(self.fc1(x))\n",
    "        x = self.fc2(x)\n",
    "        return x"
   ]
  },
  {
   "cell_type": "code",
   "execution_count": 7,
   "id": "81c864fa-f996-4ef0-8fd2-c5a6553c7257",
   "metadata": {},
   "outputs": [],
   "source": [
    "class Model2(nn.Module):\n",
    "    def __init__(self):\n",
    "        super(Model2, self).__init__()\n",
    "        self.fc1 = nn.Linear(784, 512)\n",
    "        self.fc2 = nn.Linear(512, 10)\n",
    "\n",
    "    def forward(self, x):\n",
    "        x = torch.flatten(x, 1)\n",
    "        x = F.relu(self.fc1(x))\n",
    "        x = self.fc2(x)\n",
    "        return x"
   ]
  },
  {
   "cell_type": "code",
   "execution_count": 8,
   "id": "a7557a3a-e461-496e-8ce3-035758da7df4",
   "metadata": {},
   "outputs": [],
   "source": [
    "class Model3(nn.Module):\n",
    "    def __init__(self):\n",
    "        super(Model3, self).__init__()\n",
    "        self.fc1 = nn.Linear(784, 1000)\n",
    "        self.fc2 = nn.Linear(1000, 10)\n",
    "\n",
    "    def forward(self, x):\n",
    "        x = torch.flatten(x, 1)\n",
    "        x = F.relu(self.fc1(x))\n",
    "        x = self.fc2(x)\n",
    "        return x"
   ]
  },
  {
   "cell_type": "code",
   "execution_count": 9,
   "id": "4b64eaee-de5b-4b0b-9419-aa691ed61353",
   "metadata": {},
   "outputs": [],
   "source": [
    "class Model4(nn.Module):\n",
    "    def __init__(self):\n",
    "        super(Model4, self).__init__()\n",
    "        self.fc1 = nn.Linear(784, 2000)\n",
    "        self.fc2 = nn.Linear(2000, 10)\n",
    "\n",
    "    def forward(self, x):\n",
    "        x = torch.flatten(x, 1)\n",
    "        x = F.relu(self.fc1(x))\n",
    "        x = self.fc2(x)\n",
    "        return x"
   ]
  },
  {
   "cell_type": "code",
   "execution_count": 10,
   "id": "8bb5f6f2-78e6-403f-b913-d5e7d2c3c188",
   "metadata": {},
   "outputs": [],
   "source": [
    "class Model5(nn.Module):\n",
    "    def __init__(self):\n",
    "        super(Model5, self).__init__()\n",
    "        self.fc1 = nn.Linear(784, 4000)\n",
    "        self.fc2 = nn.Linear(4000, 10)\n",
    "\n",
    "    def forward(self, x):\n",
    "        x = torch.flatten(x, 1)\n",
    "        x = F.relu(self.fc1(x))\n",
    "        x = self.fc2(x)\n",
    "        return x"
   ]
  },
  {
   "cell_type": "code",
   "execution_count": 11,
   "id": "ad4c51bd-db80-41c9-a594-6b38c7ac69e9",
   "metadata": {},
   "outputs": [],
   "source": [
    "training_acc_arr = []\n",
    "training_loss_arr = []\n",
    "testing_acc_arr = []\n",
    "testing_loss_arr = []\n",
    "sensitivities = []"
   ]
  },
  {
   "cell_type": "code",
   "execution_count": 12,
   "id": "0337bd85-829c-4681-a552-387e7b8eae3c",
   "metadata": {},
   "outputs": [],
   "source": [
    "args = {\n",
    "    \"log_interval\": 200,\n",
    "    \"lr\": 1e-3,\n",
    "    \"epochs\": 1,\n",
    "    \"batch_sizes\": [64, 256, 512, 1014, 2048],\n",
    "}"
   ]
  },
  {
   "cell_type": "code",
   "execution_count": 13,
   "id": "a0f1da99-4596-4d00-9e3c-503fa1d07a8c",
   "metadata": {},
   "outputs": [],
   "source": [
    "models = [\n",
    "    Model1(),\n",
    "    Model2(),\n",
    "    Model3(),\n",
    "    Model4(),\n",
    "    Model5(),\n",
    "]"
   ]
  },
  {
   "cell_type": "code",
   "execution_count": 14,
   "id": "2d36c686-5ee0-4bb6-9ed6-e12de1147241",
   "metadata": {
    "scrolled": true,
    "tags": []
   },
   "outputs": [
    {
     "name": "stdout",
     "output_type": "stream",
     "text": [
      "Model1\n",
      "Train Epoch: 1 [0/60000 (0%)]\tLoss: 2.293801\tSensitivity: 0.246010\n",
      "Train Epoch: 1 [12800/60000 (21%)]\tLoss: 0.285110\tSensitivity: 0.389288\n",
      "Train Epoch: 1 [25600/60000 (43%)]\tLoss: 0.204433\tSensitivity: 0.239883\n",
      "Train Epoch: 1 [38400/60000 (64%)]\tLoss: 0.320602\tSensitivity: 0.393754\n",
      "Train Epoch: 1 [51200/60000 (85%)]\tLoss: 0.260673\tSensitivity: 0.295090\n",
      "\n",
      "Test set: Average loss: 0.0024, Accuracy: 9554/10000 (96%)\n",
      "\n",
      "Model2\n",
      "Train Epoch: 1 [0/60000 (0%)]\tLoss: 2.302970\tSensitivity: 0.232883\n",
      "Train Epoch: 1 [51200/60000 (85%)]\tLoss: 0.268597\tSensitivity: 0.155771\n",
      "\n",
      "Test set: Average loss: 0.0008, Accuracy: 9447/10000 (94%)\n",
      "\n",
      "Model3\n",
      "Train Epoch: 1 [0/60000 (0%)]\tLoss: 2.312692\tSensitivity: 0.261938\n",
      "\n",
      "Test set: Average loss: 0.0005, Accuracy: 9347/10000 (93%)\n",
      "\n",
      "Model4\n",
      "Train Epoch: 1 [0/60000 (0%)]\tLoss: 2.303734\tSensitivity: 0.267265\n",
      "\n",
      "Test set: Average loss: 0.0002, Accuracy: 9292/10000 (93%)\n",
      "\n",
      "Model5\n",
      "Train Epoch: 1 [0/60000 (0%)]\tLoss: 2.298746\tSensitivity: 0.315301\n",
      "\n",
      "Test set: Average loss: 0.0001, Accuracy: 9198/10000 (92%)\n",
      "\n"
     ]
    }
   ],
   "source": [
    "idx = 1\n",
    "for model, batch_size in zip(models, args[\"batch_sizes\"]):\n",
    "\n",
    "    print(\"Model\" + str(idx))\n",
    "    idx += 1\n",
    "\n",
    "    mnist_train_dataloader = DataLoader(\n",
    "        mnist_training_data, batch_size=batch_size, shuffle=True\n",
    "    )\n",
    "    mnist_test_dataloader = DataLoader(mnist_test_data, batch_size=batch_size)\n",
    "\n",
    "    loss_func = nn.CrossEntropyLoss()\n",
    "    optimizer = optim.Adam(model.parameters(), lr=args[\"lr\"])\n",
    "\n",
    "    training_acc, training_loss, sensitivitiy = 0, 0, 0\n",
    "    testing_acc, testing_loss = 0, 0\n",
    "    for epoch in range(1, args[\"epochs\"] + 1):\n",
    "        training_acc, training_loss, sensitivity = train(\n",
    "            args, model, mnist_train_dataloader, loss_func, optimizer, epoch\n",
    "        )\n",
    "        testing_acc, testing_loss = test(model, loss_func, mnist_test_dataloader)\n",
    "    training_acc_arr.append(training_acc)\n",
    "    training_loss_arr.append(training_loss)\n",
    "    sensitivities.append(sensitivity)\n",
    "    testing_acc_arr.append(testing_acc)\n",
    "    testing_loss_arr.append(testing_loss)"
   ]
  },
  {
   "cell_type": "code",
   "execution_count": 15,
   "id": "c2bc1347-efb3-45d2-af94-450e3de9ca7c",
   "metadata": {},
   "outputs": [
    {
     "data": {
      "image/png": "[encoded data removed]",
      "text/plain": [
       "<Figure size 640x480 with 2 Axes>"
      ]
     },
     "metadata": {},
     "output_type": "display_data"
    }
   ],
   "source": [
    "fig, ax = plt.subplots()\n",
    "ax.plot(\n",
    "    args[\"batch_sizes\"], training_loss_arr, color=\"Blue\", marker=\"o\", linestyle=\"dashed\"\n",
    ")\n",
    "ax.plot(args[\"batch_sizes\"], testing_loss_arr, color=\"Blue\", marker=\"v\")\n",
    "ax.legend([\"Train Loss\", \"Test Loss\"], loc=\"upper right\")\n",
    "ax.set_xlabel(\"Batch Size\")\n",
    "ax.set_ylabel(\"CrossEntropy Loss\", color=\"blue\")\n",
    "ax.set_yscale(\"log\", base=2)\n",
    "ax.tick_params(axis=\"y\", colors=\"blue\")\n",
    "ax.set_title(\"Loss, Sensitivity v.s. Batch Size\", color=\"g\")\n",
    "\n",
    "ax2 = ax.twinx()\n",
    "ax2.plot(args[\"batch_sizes\"], sensitivities, color=\"red\")\n",
    "ax2.set_xlabel(\"Batch\")\n",
    "ax2.set_ylabel(\"Sensitivity\", color=\"red\")\n",
    "ax2.tick_params(axis=\"y\", colors=\"red\")\n",
    "ax2.legend([\"Sensitivity\"], loc=\"center left\")\n",
    "\n",
    "plt.show()"
   ]
  }
 ],
 "metadata": {
  "kernelspec": {
   "display_name": "Python 3 (ipykernel)",
   "language": "python",
   "name": "python3"
  },
  "language_info": {
   "codemirror_mode": {
    "name": "ipython",
    "version": 3
   },
   "file_extension": ".py",
   "mimetype": "text/x-python",
   "name": "python",
   "nbconvert_exporter": "python",
   "pygments_lexer": "ipython3",
   "version": "3.10.9"
  }
 },
 "nbformat": 4,
 "nbformat_minor": 5
}
