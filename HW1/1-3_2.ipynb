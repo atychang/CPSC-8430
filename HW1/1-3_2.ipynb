{
 "cells": [
  {
   "cell_type": "markdown",
   "id": "4b5677d9-9dfc-4ab2-9439-25b8a32b8c45",
   "metadata": {},
   "source": [
    "# Number of parameters v.s. Generalization"
   ]
  },
  {
   "cell_type": "code",
   "execution_count": 3,
   "id": "4f5a12ad-286f-4087-abaa-3e368263edbd",
   "metadata": {},
   "outputs": [],
   "source": [
    "import matplotlib.pyplot as plt\n",
    "import numpy as np\n",
    "import torch\n",
    "import torch.nn as nn\n",
    "import torch.nn.functional as F\n",
    "import torch.optim as optim\n",
    "from torchvision import datasets, transforms\n",
    "from torchvision.transforms import ToTensor\n",
    "from torch.utils.data import DataLoader"
   ]
  },
  {
   "cell_type": "code",
   "execution_count": 4,
   "id": "5c78fbdc-ea8f-4698-981c-8c936a9bba7a",
   "metadata": {},
   "outputs": [
    {
     "data": {
      "text/plain": [
       "<torch._C.Generator at 0x11b859c70>"
      ]
     },
     "execution_count": 4,
     "metadata": {},
     "output_type": "execute_result"
    }
   ],
   "source": [
    "torch.manual_seed(1)"
   ]
  },
  {
   "cell_type": "markdown",
   "id": "d321641b-8cf7-4d27-9ccf-7e435df0871a",
   "metadata": {},
   "source": [
    "## Datasets"
   ]
  },
  {
   "cell_type": "markdown",
   "id": "2d51620b-d45c-478b-a78b-755df4b3d3a1",
   "metadata": {},
   "source": [
    "### MNIST"
   ]
  },
  {
   "cell_type": "code",
   "execution_count": 3,
   "id": "58e90c7d-4546-4500-ad71-2a5f741ae85a",
   "metadata": {},
   "outputs": [],
   "source": [
    "# The training data\n",
    "mnist_training_data = datasets.MNIST(\n",
    "    root=\"data\",\n",
    "    train=True,\n",
    "    download=True,\n",
    "    transform=ToTensor(),\n",
    ")\n",
    "\n",
    "# The testing data\n",
    "mnist_test_data = datasets.MNIST(\n",
    "    root=\"data\",\n",
    "    train=False,\n",
    "    download=True,\n",
    "    transform=ToTensor(),\n",
    ")"
   ]
  },
  {
   "cell_type": "markdown",
   "id": "f992e27f-278e-4ba6-a152-47bf10bd7f90",
   "metadata": {},
   "source": [
    "## Training Function"
   ]
  },
  {
   "cell_type": "code",
   "execution_count": 4,
   "id": "4b3ef37a-931d-4d7c-af33-a10e572dfa88",
   "metadata": {},
   "outputs": [],
   "source": [
    "def train(args, model, train_loader, loss_func, optimizer, epoch):\n",
    "    model.train()\n",
    "    loss = None\n",
    "    correct = 0\n",
    "    for batch_idx, (data, target) in enumerate(train_loader):\n",
    "        optimizer.zero_grad()\n",
    "        output = model(data)\n",
    "        loss = loss_func(output, target)\n",
    "        loss.backward()\n",
    "        optimizer.step()\n",
    "\n",
    "        _, predicted = torch.max(output.data, 1)\n",
    "        correct += (predicted == target).sum().item()\n",
    "\n",
    "        if batch_idx % args[\"log_interval\"] == 0:\n",
    "            print(\n",
    "                \"Train Epoch: {} [{}/{} ({:.0f}%)]\\tLoss: {:.6f}\".format(\n",
    "                    epoch,\n",
    "                    batch_idx * len(data),\n",
    "                    len(train_loader.dataset),\n",
    "                    100.0 * batch_idx / len(train_loader),\n",
    "                    loss.item(),\n",
    "                )\n",
    "            )\n",
    "    return correct / len(train_loader.dataset), loss.item()"
   ]
  },
  {
   "cell_type": "markdown",
   "id": "adcef9e1-92d1-45af-9863-f44ac649db98",
   "metadata": {},
   "source": [
    "## Testing Function"
   ]
  },
  {
   "cell_type": "code",
   "execution_count": 5,
   "id": "5ce9dd3d-64e3-4ff6-8667-96ef9da2d7f5",
   "metadata": {},
   "outputs": [],
   "source": [
    "def test(model, loss_func, test_loader):\n",
    "    model.eval()\n",
    "    test_loss = 0\n",
    "    correct = 0\n",
    "    with torch.no_grad():\n",
    "        for data, target in test_loader:\n",
    "            output = model(data)\n",
    "            test_loss += loss_func(output, target).item()\n",
    "            pred = output.argmax(dim=1, keepdim=True)\n",
    "            correct += pred.eq(target.view_as(pred)).sum().item()\n",
    "\n",
    "    test_loss /= len(test_loader.dataset)\n",
    "\n",
    "    print(\n",
    "        \"\\nTest set: Average loss: {:.4f}, Accuracy: {}/{} ({:.0f}%)\\n\".format(\n",
    "            test_loss,\n",
    "            correct,\n",
    "            len(test_loader.dataset),\n",
    "            100.0 * correct / len(test_loader.dataset),\n",
    "        )\n",
    "    )\n",
    "\n",
    "    return correct / len(test_loader.dataset), test_loss"
   ]
  },
  {
   "cell_type": "markdown",
   "id": "7b25bc37-beec-46f3-b04a-a208c7964520",
   "metadata": {},
   "source": [
    "## 10 Models"
   ]
  },
  {
   "cell_type": "code",
   "execution_count": 5,
   "id": "28aa76fe-9cd2-431c-bcae-97e2e3ae4d3e",
   "metadata": {},
   "outputs": [],
   "source": [
    "class Model1(nn.Module):\n",
    "    def __init__(self):\n",
    "        super(Model1, self).__init__()\n",
    "        self.fc1 = nn.Linear(784, 10)\n",
    "        self.fc2 = nn.Linear(10, 10)\n",
    "\n",
    "    def forward(self, x):\n",
    "        x = torch.flatten(x, 1)\n",
    "        x = F.relu(self.fc1(x))\n",
    "        x = self.fc2(x)\n",
    "        return x"
   ]
  },
  {
   "cell_type": "code",
   "execution_count": 6,
   "id": "7fd0b1ba-cfb5-4f9a-b354-c9c52fe1ccc3",
   "metadata": {},
   "outputs": [],
   "source": [
    "class Model2(nn.Module):\n",
    "    def __init__(self):\n",
    "        super(Model2, self).__init__()\n",
    "        self.fc1 = nn.Linear(784, 20)\n",
    "        self.fc2 = nn.Linear(20, 10)\n",
    "\n",
    "    def forward(self, x):\n",
    "        x = torch.flatten(x, 1)\n",
    "        x = F.relu(self.fc1(x))\n",
    "        x = self.fc2(x)\n",
    "        return x"
   ]
  },
  {
   "cell_type": "code",
   "execution_count": 7,
   "id": "bfabffda-d8c1-40d9-93df-cd3466bfe0c3",
   "metadata": {},
   "outputs": [],
   "source": [
    "class Model3(nn.Module):\n",
    "    def __init__(self):\n",
    "        super(Model3, self).__init__()\n",
    "        self.fc1 = nn.Linear(784, 800)\n",
    "        self.fc2 = nn.Linear(800, 10)\n",
    "\n",
    "    def forward(self, x):\n",
    "        x = torch.flatten(x, 1)\n",
    "        x = F.relu(self.fc1(x))\n",
    "        x = self.fc2(x)\n",
    "        return x"
   ]
  },
  {
   "cell_type": "code",
   "execution_count": 8,
   "id": "03db5ba6-86b3-4e67-a6fc-87704043a953",
   "metadata": {},
   "outputs": [],
   "source": [
    "class Model4(nn.Module):\n",
    "    def __init__(self):\n",
    "        super(Model4, self).__init__()\n",
    "        self.fc1 = nn.Linear(784, 40)\n",
    "        self.fc2 = nn.Linear(40, 10)\n",
    "\n",
    "    def forward(self, x):\n",
    "        x = torch.flatten(x, 1)\n",
    "        x = F.relu(self.fc1(x))\n",
    "        x = self.fc2(x)\n",
    "        return x"
   ]
  },
  {
   "cell_type": "code",
   "execution_count": 9,
   "id": "eb5bf981-8034-4001-9461-b333589ea49f",
   "metadata": {},
   "outputs": [],
   "source": [
    "class Model5(nn.Module):\n",
    "    def __init__(self):\n",
    "        super(Model5, self).__init__()\n",
    "        self.fc1 = nn.Linear(784, 120)\n",
    "        self.fc2 = nn.Linear(120, 10)\n",
    "\n",
    "    def forward(self, x):\n",
    "        x = torch.flatten(x, 1)\n",
    "        x = F.relu(self.fc1(x))\n",
    "        x = self.fc2(x)\n",
    "        return x"
   ]
  },
  {
   "cell_type": "code",
   "execution_count": 10,
   "id": "8049b3b0-1b25-4634-9129-afcc37654896",
   "metadata": {},
   "outputs": [],
   "source": [
    "class Model6(nn.Module):\n",
    "    def __init__(self):\n",
    "        super(Model6, self).__init__()\n",
    "        self.fc1 = nn.Linear(784, 240)\n",
    "        self.fc2 = nn.Linear(240, 10)\n",
    "\n",
    "    def forward(self, x):\n",
    "        x = torch.flatten(x, 1)\n",
    "        x = F.relu(self.fc1(x))\n",
    "        x = self.fc2(x)\n",
    "        return x"
   ]
  },
  {
   "cell_type": "code",
   "execution_count": 11,
   "id": "14b8394d-9762-4c6a-a55e-522f699b52e6",
   "metadata": {},
   "outputs": [],
   "source": [
    "class Model7(nn.Module):\n",
    "    def __init__(self):\n",
    "        super(Model7, self).__init__()\n",
    "        self.fc1 = nn.Linear(784, 512)\n",
    "        self.fc2 = nn.Linear(512, 10)\n",
    "\n",
    "    def forward(self, x):\n",
    "        x = torch.flatten(x, 1)\n",
    "        x = F.relu(self.fc1(x))\n",
    "        x = self.fc2(x)\n",
    "        return x"
   ]
  },
  {
   "cell_type": "code",
   "execution_count": 12,
   "id": "0544bfaf-2ac4-454e-97dc-dbb7b2c2217b",
   "metadata": {},
   "outputs": [],
   "source": [
    "class Model8(nn.Module):\n",
    "    def __init__(self):\n",
    "        super(Model8, self).__init__()\n",
    "        self.fc1 = nn.Linear(784, 1000)\n",
    "        self.fc2 = nn.Linear(1000, 10)\n",
    "\n",
    "    def forward(self, x):\n",
    "        x = torch.flatten(x, 1)\n",
    "        x = F.relu(self.fc1(x))\n",
    "        x = self.fc2(x)\n",
    "        return x"
   ]
  },
  {
   "cell_type": "code",
   "execution_count": 13,
   "id": "27668066-3fdf-4550-961a-ea5562622146",
   "metadata": {},
   "outputs": [],
   "source": [
    "class Model9(nn.Module):\n",
    "    def __init__(self):\n",
    "        super(Model9, self).__init__()\n",
    "        self.fc1 = nn.Linear(784, 2000)\n",
    "        self.fc2 = nn.Linear(2000, 10)\n",
    "\n",
    "    def forward(self, x):\n",
    "        x = torch.flatten(x, 1)\n",
    "        x = F.relu(self.fc1(x))\n",
    "        x = self.fc2(x)\n",
    "        return x"
   ]
  },
  {
   "cell_type": "code",
   "execution_count": 14,
   "id": "8dbd66d3-9ffa-48bf-9406-6536222ffdb3",
   "metadata": {},
   "outputs": [],
   "source": [
    "class Model10(nn.Module):\n",
    "    def __init__(self):\n",
    "        super(Model10, self).__init__()\n",
    "        self.fc1 = nn.Linear(784, 4000)\n",
    "        self.fc2 = nn.Linear(4000, 10)\n",
    "\n",
    "    def forward(self, x):\n",
    "        x = torch.flatten(x, 1)\n",
    "        x = F.relu(self.fc1(x))\n",
    "        x = self.fc2(x)\n",
    "        return x"
   ]
  },
  {
   "cell_type": "code",
   "execution_count": 16,
   "id": "83dc9373-f972-49e8-b0f0-59ef56fa0f63",
   "metadata": {},
   "outputs": [],
   "source": [
    "batch_size = 600\n",
    "\n",
    "mnist_train_dataloader = DataLoader(\n",
    "    mnist_training_data, batch_size=batch_size, shuffle=True\n",
    ")\n",
    "mnist_test_dataloader = DataLoader(mnist_test_data, batch_size=batch_size)"
   ]
  },
  {
   "cell_type": "code",
   "execution_count": 17,
   "id": "0602969a-fccf-4939-a4ce-1e4defe6dca5",
   "metadata": {},
   "outputs": [],
   "source": [
    "training_acc_arr = []\n",
    "training_loss_arr = []\n",
    "testing_acc_arr = []\n",
    "testing_loss_arr = []"
   ]
  },
  {
   "cell_type": "code",
   "execution_count": 18,
   "id": "369b55bd-2fdf-4b1e-9e30-8d5e68b18dbf",
   "metadata": {},
   "outputs": [],
   "source": [
    "args = {\"log_interval\": 200, \"lr\": 1e-3, \"epochs\": 1}"
   ]
  },
  {
   "cell_type": "code",
   "execution_count": 15,
   "id": "568c8f33-08a9-4a09-88e4-ee37736a8755",
   "metadata": {},
   "outputs": [],
   "source": [
    "models = [\n",
    "    Model1(),\n",
    "    Model2(),\n",
    "    Model3(),\n",
    "    Model4(),\n",
    "    Model5(),\n",
    "    Model6(),\n",
    "    Model7(),\n",
    "    Model8(),\n",
    "    Model9(),\n",
    "    Model10(),\n",
    "]"
   ]
  },
  {
   "cell_type": "code",
   "execution_count": 20,
   "id": "5af3dbb6-6f95-4107-80f8-8ee4510f00ce",
   "metadata": {
    "scrolled": true,
    "tags": []
   },
   "outputs": [
    {
     "name": "stdout",
     "output_type": "stream",
     "text": [
      "Model1\n",
      "Train Epoch: 1 [0/60000 (0%)]\tLoss: 2.298656\n",
      "\n",
      "Test set: Average loss: 0.0017, Accuracy: 8052/10000 (81%)\n",
      "\n",
      "Model2\n",
      "Train Epoch: 1 [0/60000 (0%)]\tLoss: 2.318975\n",
      "\n",
      "Test set: Average loss: 0.0010, Accuracy: 8665/10000 (87%)\n",
      "\n",
      "Model3\n",
      "Train Epoch: 1 [0/60000 (0%)]\tLoss: 2.306638\n",
      "\n",
      "Test set: Average loss: 0.0004, Accuracy: 9309/10000 (93%)\n",
      "\n",
      "Model4\n",
      "Train Epoch: 1 [0/60000 (0%)]\tLoss: 2.304268\n",
      "\n",
      "Test set: Average loss: 0.0008, Accuracy: 8870/10000 (89%)\n",
      "\n",
      "Model5\n",
      "Train Epoch: 1 [0/60000 (0%)]\tLoss: 2.291614\n",
      "\n",
      "Test set: Average loss: 0.0006, Accuracy: 9084/10000 (91%)\n",
      "\n",
      "Model6\n",
      "Train Epoch: 1 [0/60000 (0%)]\tLoss: 2.312515\n",
      "\n",
      "Test set: Average loss: 0.0005, Accuracy: 9184/10000 (92%)\n",
      "\n",
      "Model7\n",
      "Train Epoch: 1 [0/60000 (0%)]\tLoss: 2.316132\n",
      "\n",
      "Test set: Average loss: 0.0004, Accuracy: 9252/10000 (93%)\n",
      "\n",
      "Model8\n",
      "Train Epoch: 1 [0/60000 (0%)]\tLoss: 2.305984\n",
      "\n",
      "Test set: Average loss: 0.0004, Accuracy: 9344/10000 (93%)\n",
      "\n",
      "Model9\n",
      "Train Epoch: 1 [0/60000 (0%)]\tLoss: 2.300695\n",
      "\n",
      "Test set: Average loss: 0.0003, Accuracy: 9446/10000 (94%)\n",
      "\n",
      "Model10\n",
      "Train Epoch: 1 [0/60000 (0%)]\tLoss: 2.304169\n",
      "\n",
      "Test set: Average loss: 0.0003, Accuracy: 9529/10000 (95%)\n",
      "\n"
     ]
    }
   ],
   "source": [
    "idx = 1\n",
    "for model in models:\n",
    "\n",
    "    print(\"Model\" + str(idx))\n",
    "    idx += 1\n",
    "\n",
    "    loss_func = nn.CrossEntropyLoss()\n",
    "    optimizer = optim.Adam(model.parameters(), lr=args[\"lr\"])\n",
    "\n",
    "    training_acc, training_loss = 0, 0\n",
    "    testing_acc, testing_loss = 0, 0\n",
    "    for epoch in range(1, args[\"epochs\"] + 1):\n",
    "        training_acc, training_loss = train(\n",
    "            args, model, mnist_train_dataloader, loss_func, optimizer, epoch\n",
    "        )\n",
    "        testing_acc, testing_loss = test(model, loss_func, mnist_test_dataloader)\n",
    "    training_acc_arr.append(training_acc)\n",
    "    training_loss_arr.append(training_loss)\n",
    "    testing_acc_arr.append(testing_acc)\n",
    "    testing_loss_arr.append(testing_loss)"
   ]
  },
  {
   "cell_type": "code",
   "execution_count": 21,
   "id": "5b09e64c-47e5-4800-a885-27d6f61af2f0",
   "metadata": {},
   "outputs": [],
   "source": [
    "num_of_param_per_models = []\n",
    "for model in models:\n",
    "    num_of_param_per_models.append(sum(p.numel() for p in model.parameters()))"
   ]
  },
  {
   "cell_type": "code",
   "execution_count": 22,
   "id": "9bef9f3c-609e-4d9d-a2ac-f5a7ebf023f4",
   "metadata": {},
   "outputs": [],
   "source": [
    "num_of_param_per_models.sort()"
   ]
  },
  {
   "cell_type": "markdown",
   "id": "caa36395-6484-4978-99c0-13df55edfb0c",
   "metadata": {},
   "source": [
    "## Result"
   ]
  },
  {
   "cell_type": "code",
   "execution_count": 23,
   "id": "f7d5bd85-7717-4bde-9261-ba7dafc99b78",
   "metadata": {},
   "outputs": [
    {
     "data": {
      "image/png": "[encoded data removed]",
      "text/plain": [
       "<Figure size 640x480 with 1 Axes>"
      ]
     },
     "metadata": {},
     "output_type": "display_data"
    }
   ],
   "source": [
    "plt.scatter(num_of_param_per_models, training_loss_arr, label=\"training_acc\")\n",
    "plt.scatter(num_of_param_per_models, testing_loss_arr, label=\"testing_acc\")\n",
    "plt.xticks(num_of_param_per_models, num_of_param_per_models, rotation=70)\n",
    "plt.xlabel(\"Number of Parameters\")\n",
    "plt.ylabel(\"Loss\")\n",
    "plt.title(\"Model Loss\")\n",
    "plt.legend()\n",
    "plt.show()"
   ]
  },
  {
   "cell_type": "code",
   "execution_count": 24,
   "id": "397b603a-270b-488e-a80e-6cf91d21cfff",
   "metadata": {},
   "outputs": [
    {
     "data": {
      "image/png": "[encoded data removed]",
      "text/plain": [
       "<Figure size 640x480 with 1 Axes>"
      ]
     },
     "metadata": {},
     "output_type": "display_data"
    }
   ],
   "source": [
    "plt.scatter(num_of_param_per_models, training_acc_arr, label=\"training_acc\")\n",
    "plt.scatter(num_of_param_per_models, testing_acc_arr, label=\"testing_acc\")\n",
    "plt.xticks(num_of_param_per_models, num_of_param_per_models, rotation=70)\n",
    "plt.xlabel(\"Number of Parameters\")\n",
    "plt.ylabel(\"Loss\")\n",
    "plt.title(\"Model Accuracy\")\n",
    "plt.legend()\n",
    "plt.show()"
   ]
  },
  {
   "cell_type": "code",
   "execution_count": 18,
   "id": "e0a0bef0-6a82-4f75-b0b3-f215a5909b0e",
   "metadata": {},
   "outputs": [
    {
     "name": "stdout",
     "output_type": "stream",
     "text": [
      "Model 1: 7960\n",
      "Model 2: 15910\n",
      "Model 3: 636010\n",
      "Model 4: 31810\n",
      "Model 5: 95410\n",
      "Model 6: 190810\n",
      "Model 7: 407050\n",
      "Model 8: 795010\n",
      "Model 9: 1590010\n",
      "Model 10: 3180010\n"
     ]
    }
   ],
   "source": [
    "for idx, model in enumerate(models):\n",
    "    print(\n",
    "        \"Model \"\n",
    "        + str(idx + 1)\n",
    "        + \": \"\n",
    "        + str(sum(param.numel() for param in model.parameters()))\n",
    "    )"
   ]
  }
 ],
 "metadata": {
  "kernelspec": {
   "display_name": "Python 3 (ipykernel)",
   "language": "python",
   "name": "python3"
  },
  "language_info": {
   "codemirror_mode": {
    "name": "ipython",
    "version": 3
   },
   "file_extension": ".py",
   "mimetype": "text/x-python",
   "name": "python",
   "nbconvert_exporter": "python",
   "pygments_lexer": "ipython3",
   "version": "3.10.9"
  }
 },
 "nbformat": 4,
 "nbformat_minor": 5
}
